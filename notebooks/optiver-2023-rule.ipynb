{
 "cells": [
  {
   "cell_type": "code",
   "execution_count": 1,
   "id": "d29db7bf",
   "metadata": {
    "execution": {
     "iopub.execute_input": "2023-12-20T21:09:06.314303Z",
     "iopub.status.busy": "2023-12-20T21:09:06.313780Z",
     "iopub.status.idle": "2023-12-20T21:09:07.265271Z",
     "shell.execute_reply": "2023-12-20T21:09:07.264015Z"
    },
    "papermill": {
     "duration": 0.959592,
     "end_time": "2023-12-20T21:09:07.268265",
     "exception": false,
     "start_time": "2023-12-20T21:09:06.308673",
     "status": "completed"
    },
    "tags": []
   },
   "outputs": [],
   "source": [
    "import optiver2023\n",
    "env = optiver2023.make_env()\n",
    "iter_test = env.iter_test()"
   ]
  },
  {
   "cell_type": "code",
   "execution_count": 2,
   "id": "453daffb",
   "metadata": {
    "execution": {
     "iopub.execute_input": "2023-12-20T21:09:07.278198Z",
     "iopub.status.busy": "2023-12-20T21:09:07.277574Z",
     "iopub.status.idle": "2023-12-20T21:09:07.283834Z",
     "shell.execute_reply": "2023-12-20T21:09:07.282381Z"
    },
    "papermill": {
     "duration": 0.015484,
     "end_time": "2023-12-20T21:09:07.286746",
     "exception": false,
     "start_time": "2023-12-20T21:09:07.271262",
     "status": "completed"
    },
    "tags": []
   },
   "outputs": [],
   "source": [
    "simple_mapping = {\n",
    "    1: 0.1,\n",
    "    0: 0,\n",
    "    -1: -0.1\n",
    "}"
   ]
  },
  {
   "cell_type": "code",
   "execution_count": 3,
   "id": "03049aef",
   "metadata": {
    "execution": {
     "iopub.execute_input": "2023-12-20T21:09:07.295694Z",
     "iopub.status.busy": "2023-12-20T21:09:07.295160Z",
     "iopub.status.idle": "2023-12-20T21:09:08.406150Z",
     "shell.execute_reply": "2023-12-20T21:09:08.404827Z"
    },
    "papermill": {
     "duration": 1.118253,
     "end_time": "2023-12-20T21:09:08.409236",
     "exception": false,
     "start_time": "2023-12-20T21:09:07.290983",
     "status": "completed"
    },
    "tags": []
   },
   "outputs": [
    {
     "name": "stdout",
     "output_type": "stream",
     "text": [
      "This version of the API is not optimized and should not be used to estimate the runtime of your code on the hidden test set.\n"
     ]
    }
   ],
   "source": [
    "counter = 0\n",
    "for (test, revealed_targets, sample_prediction) in iter_test:\n",
    "    sample_prediction['target'] = test['imbalance_buy_sell_flag'].map(simple_mapping)\n",
    "    env.predict(sample_prediction)\n",
    "    counter += 1"
   ]
  },
  {
   "cell_type": "code",
   "execution_count": null,
   "id": "0fc20831",
   "metadata": {
    "papermill": {
     "duration": 0.00222,
     "end_time": "2023-12-20T21:09:08.414180",
     "exception": false,
     "start_time": "2023-12-20T21:09:08.411960",
     "status": "completed"
    },
    "tags": []
   },
   "outputs": [],
   "source": []
  }
 ],
 "metadata": {
  "kaggle": {
   "accelerator": "none",
   "dataSources": [
    {
     "databundleVersionId": 7056235,
     "sourceId": 57891,
     "sourceType": "competition"
    }
   ],
   "dockerImageVersionId": 30553,
   "isGpuEnabled": false,
   "isInternetEnabled": false,
   "language": "python",
   "sourceType": "notebook"
  },
  "kernelspec": {
   "display_name": "Python 3",
   "language": "python",
   "name": "python3"
  },
  "language_info": {
   "codemirror_mode": {
    "name": "ipython",
    "version": 3
   },
   "file_extension": ".py",
   "mimetype": "text/x-python",
   "name": "python",
   "nbconvert_exporter": "python",
   "pygments_lexer": "ipython3",
   "version": "3.10.12"
  },
  "papermill": {
   "default_parameters": {},
   "duration": 10.186301,
   "end_time": "2023-12-20T21:09:11.992319",
   "environment_variables": {},
   "exception": null,
   "input_path": "__notebook__.ipynb",
   "output_path": "__notebook__.ipynb",
   "parameters": {},
   "start_time": "2023-12-20T21:09:01.806018",
   "version": "2.4.0"
  }
 },
 "nbformat": 4,
 "nbformat_minor": 5
}
